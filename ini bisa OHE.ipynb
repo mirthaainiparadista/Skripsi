{
 "cells": [
  {
   "cell_type": "code",
   "execution_count": 30,
   "metadata": {},
   "outputs": [
    {
     "name": "stderr",
     "output_type": "stream",
     "text": [
      "c:\\Users\\Mirtha\\AppData\\Local\\Programs\\Python\\Python312\\Lib\\site-packages\\sklearn\\preprocessing\\_encoders.py:975: FutureWarning: `sparse` was renamed to `sparse_output` in version 1.2 and will be removed in 1.4. `sparse_output` is ignored unless you leave `sparse` to its default value.\n",
      "  warnings.warn(\n"
     ]
    },
    {
     "name": "stdout",
     "output_type": "stream",
     "text": [
      "\n",
      "Accuracy: 1.0\n"
     ]
    }
   ],
   "source": [
    "import numpy as np\n",
    "from sklearn.model_selection import train_test_split\n",
    "from sklearn.multioutput import MultiOutputClassifier\n",
    "from sklearn.ensemble import AdaBoostClassifier\n",
    "from sklearn.preprocessing import OneHotEncoder\n",
    "from sklearn.metrics import accuracy_score\n",
    "\n",
    "# Define the data\n",
    "X = np.array([[1, 2], [3, 4], [5, 6], [7, 8], [9, 10], [1, 2], [3, 4], [5, 6], [7, 8], [9, 10], [1, 2], [3, 4], [5, 6], [7, 8], [9, 10]])\n",
    "y = np.array([\"low\", \"medium\", \"high\", \"low\", \"medium\", \"low\", \"medium\", \"high\", \"low\", \"medium\", \"low\", \"medium\", \"high\", \"low\", \"medium\"])\n",
    "\n",
    "# One-hot encode the target variable\n",
    "enc = OneHotEncoder(sparse=False)\n",
    "y_encoded = enc.fit_transform(y.reshape(-1, 1))\n",
    "\n",
    "X_train, X_test, y_train, y_test = train_test_split(X, y_encoded, test_size=0.2, random_state=42)\n",
    "# Define the AdaBoost classifier\n",
    "clf = MultiOutputClassifier(AdaBoostClassifier(random_state=42))\n",
    "\n",
    "# Train the classifier\n",
    "clf.fit(X_train, y_train)\n",
    "\n",
    "# Memprediksi pada test set\n",
    "y_pred = clf.predict(X_test)\n",
    "accuracy = accuracy_score(np.argmax(y_test, axis=1), np.argmax(y_pred, axis=1))\n",
    "print(\"\\nAccuracy:\", accuracy)\n"
   ]
  },
  {
   "cell_type": "code",
   "execution_count": 31,
   "metadata": {},
   "outputs": [
    {
     "name": "stderr",
     "output_type": "stream",
     "text": [
      "c:\\Users\\Mirtha\\AppData\\Local\\Programs\\Python\\Python312\\Lib\\site-packages\\sklearn\\preprocessing\\_encoders.py:975: FutureWarning: `sparse` was renamed to `sparse_output` in version 1.2 and will be removed in 1.4. `sparse_output` is ignored unless you leave `sparse` to its default value.\n",
      "  warnings.warn(\n"
     ]
    },
    {
     "name": "stdout",
     "output_type": "stream",
     "text": [
      "Cross-validation scores: [1. 1. 1. 1. 1.]\n",
      "Mean Cross-validation score: 1.0\n"
     ]
    }
   ],
   "source": [
    "import numpy as np\n",
    "from sklearn.model_selection import cross_val_score\n",
    "from sklearn.multioutput import MultiOutputClassifier\n",
    "from sklearn.ensemble import AdaBoostClassifier\n",
    "from sklearn.preprocessing import OneHotEncoder\n",
    "from sklearn.metrics import make_scorer\n",
    "\n",
    "# Define the data\n",
    "X = np.array([[1, 2], [3, 4], [5, 6], [7, 8], [9, 10], [1, 2], [3, 4], [5, 6], [7, 8], [9, 10], [1, 2], [3, 4], [5, 6], [7, 8], [9, 10]])\n",
    "y = np.array([\"low\", \"medium\", \"high\", \"low\", \"medium\", \"low\", \"medium\", \"high\", \"low\", \"medium\", \"low\", \"medium\", \"high\", \"low\", \"medium\"])\n",
    "\n",
    "# One-hot encode the target variable\n",
    "enc = OneHotEncoder(sparse=False)\n",
    "y_encoded = enc.fit_transform(y.reshape(-1, 1))\n",
    "\n",
    "# Define the AdaBoost classifier\n",
    "clf = MultiOutputClassifier(AdaBoostClassifier(random_state=42))\n",
    "\n",
    "# Define accuracy as the metric for scoring\n",
    "scorer = make_scorer(accuracy_score)\n",
    "\n",
    "# Perform K-fold cross validation\n",
    "cv_scores = cross_val_score(clf, X, y_encoded, cv=5, scoring=scorer)\n",
    "\n",
    "# Print the cross-validation scores\n",
    "print(\"Cross-validation scores:\", cv_scores)\n",
    "\n",
    "# Print the mean cross-validation score\n",
    "print(\"Mean Cross-validation score:\", np.mean(cv_scores))\n"
   ]
  },
  {
   "cell_type": "code",
   "execution_count": 32,
   "metadata": {},
   "outputs": [
    {
     "name": "stdout",
     "output_type": "stream",
     "text": [
      "Cross-validation scores: [1. 1. 1. 1. 1.]\n",
      "Mean Cross-validation score: 1.0\n"
     ]
    },
    {
     "name": "stderr",
     "output_type": "stream",
     "text": [
      "c:\\Users\\Mirtha\\AppData\\Local\\Programs\\Python\\Python312\\Lib\\site-packages\\sklearn\\preprocessing\\_encoders.py:975: FutureWarning: `sparse` was renamed to `sparse_output` in version 1.2 and will be removed in 1.4. `sparse_output` is ignored unless you leave `sparse` to its default value.\n",
      "  warnings.warn(\n"
     ]
    }
   ],
   "source": [
    "import numpy as np\n",
    "from sklearn.model_selection import cross_val_score\n",
    "from sklearn.tree import DecisionTreeClassifier\n",
    "from sklearn.preprocessing import OneHotEncoder\n",
    "from sklearn.metrics import make_scorer\n",
    "\n",
    "# Define the data\n",
    "X = np.array([[1, 2], [3, 4], [5, 6], [7, 8], [9, 10], [1, 2], [3, 4], [5, 6], [7, 8], [9, 10], [1, 2], [3, 4], [5, 6], [7, 8], [9, 10]])\n",
    "y = np.array([\"low\", \"medium\", \"high\", \"low\", \"medium\", \"low\", \"medium\", \"high\", \"low\", \"medium\", \"low\", \"medium\", \"high\", \"low\", \"medium\"])\n",
    "\n",
    "# One-hot encode the target variable\n",
    "enc = OneHotEncoder(sparse=False)\n",
    "y_encoded = enc.fit_transform(y.reshape(-1, 1))\n",
    "\n",
    "# Define the Decision Tree classifier\n",
    "clf = DecisionTreeClassifier(random_state=42)\n",
    "\n",
    "# Define accuracy as the metric for scoring\n",
    "scorer = make_scorer(accuracy_score)\n",
    "\n",
    "# Perform K-fold cross validation\n",
    "cv_scores = cross_val_score(clf, X, y_encoded, cv=5, scoring=scorer)\n",
    "\n",
    "# Print the cross-validation scores\n",
    "print(\"Cross-validation scores:\", cv_scores)\n",
    "\n",
    "# Print the mean cross-validation score\n",
    "print(\"Mean Cross-validation score:\", np.mean(cv_scores))\n"
   ]
  },
  {
   "cell_type": "code",
   "execution_count": 33,
   "metadata": {},
   "outputs": [
    {
     "name": "stdout",
     "output_type": "stream",
     "text": [
      "Cross-validation scores: [0.33333333 0.33333333 0.33333333 0.33333333 0.33333333]\n",
      "Mean Cross-validation score: 0.3333333333333333\n"
     ]
    },
    {
     "name": "stderr",
     "output_type": "stream",
     "text": [
      "c:\\Users\\Mirtha\\AppData\\Local\\Programs\\Python\\Python312\\Lib\\site-packages\\sklearn\\preprocessing\\_encoders.py:975: FutureWarning: `sparse` was renamed to `sparse_output` in version 1.2 and will be removed in 1.4. `sparse_output` is ignored unless you leave `sparse` to its default value.\n",
      "  warnings.warn(\n",
      "c:\\Users\\Mirtha\\AppData\\Local\\Programs\\Python\\Python312\\Lib\\site-packages\\sklearn\\model_selection\\_split.py:737: UserWarning: The least populated class in y has only 3 members, which is less than n_splits=5.\n",
      "  warnings.warn(\n"
     ]
    }
   ],
   "source": [
    "import numpy as np\n",
    "from sklearn.model_selection import cross_val_score\n",
    "from sklearn.naive_bayes import MultinomialNB\n",
    "from sklearn.preprocessing import OneHotEncoder\n",
    "from sklearn.metrics import make_scorer\n",
    "\n",
    "# Define the data\n",
    "X = np.array([[1, 2], [3, 4], [5, 6], [7, 8], [9, 10], [1, 2], [3, 4], [5, 6], [7, 8], [9, 10], [1, 2], [3, 4], [5, 6], [7, 8], [9, 10]])\n",
    "y = np.array([\"low\", \"medium\", \"high\", \"low\", \"medium\", \"low\", \"medium\", \"high\", \"low\", \"medium\", \"low\", \"medium\", \"high\", \"low\", \"medium\"])\n",
    "\n",
    "# One-hot encode the target variable\n",
    "enc = OneHotEncoder(sparse=False)\n",
    "y_encoded = enc.fit_transform(y.reshape(-1, 1))\n",
    "\n",
    "# Define the Multinomial Naive Bayes classifier\n",
    "clf = MultinomialNB()\n",
    "\n",
    "# Define accuracy as the metric for scoring\n",
    "scorer = make_scorer(accuracy_score)\n",
    "\n",
    "# Perform K-fold cross validation\n",
    "cv_scores = cross_val_score(clf, X, np.argmax(y_encoded, axis=1), cv=5, scoring=scorer)\n",
    "\n",
    "# Print the cross-validation scores\n",
    "print(\"Cross-validation scores:\", cv_scores)\n",
    "\n",
    "# Print the mean cross-validation score\n",
    "print(\"Mean Cross-validation score:\", np.mean(cv_scores))\n"
   ]
  }
 ],
 "metadata": {
  "kernelspec": {
   "display_name": "Python 3",
   "language": "python",
   "name": "python3"
  },
  "language_info": {
   "codemirror_mode": {
    "name": "ipython",
    "version": 3
   },
   "file_extension": ".py",
   "mimetype": "text/x-python",
   "name": "python",
   "nbconvert_exporter": "python",
   "pygments_lexer": "ipython3",
   "version": "3.12.0"
  }
 },
 "nbformat": 4,
 "nbformat_minor": 2
}
